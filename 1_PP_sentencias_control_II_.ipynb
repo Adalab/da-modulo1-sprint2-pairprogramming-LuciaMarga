{
 "cells": [
  {
   "cell_type": "markdown",
   "metadata": {},
   "source": [
    "BUCLES FOR "
   ]
  },
  {
   "cell_type": "markdown",
   "metadata": {},
   "source": [
    "1. Imprimir los números del 1 al 50 utilizando un bucle for\n",
    "Descripción: Utiliza un bucle for para imprimir los números del 1 al 50 (incluido) en orden ascendente."
   ]
  },
  {
   "cell_type": "code",
   "execution_count": 24,
   "metadata": {},
   "outputs": [
    {
     "name": "stdout",
     "output_type": "stream",
     "text": [
      "El orden de los numeros es [0, 1, 2, 3, 4, 5, 6, 7, 8, 9, 10, 11, 12, 13, 14, 15, 16, 17, 18, 19, 20, 21, 22, 23, 24, 25, 26, 27, 28, 29, 30, 31, 32, 33, 34, 35, 36, 37, 38, 39, 40, 41, 42, 43, 44, 45, 46, 47, 48, 49, 50]\n"
     ]
    }
   ],
   "source": [
    "#declaramos el rango en la variable números \n",
    "#declaramos una lista vacía llamada \"orden\"\n",
    "#iniciamos el bucle de: por cada numero de nuestro rango, lo añadamos en la variable orden\n",
    "#imprimimos\n",
    "\n",
    "numeros = range(51)\n",
    "\n",
    "orden = []\n",
    "\n",
    "for i in numeros: \n",
    "    orden.append(i)\n",
    "\n",
    "print(f\"El orden de los numeros es {orden}\")\n",
    "\n",
    "\n"
   ]
  },
  {
   "cell_type": "markdown",
   "metadata": {},
   "source": [
    "2. Calcular la suma de los primeros 10 números naturales utilizando un bucle for\n",
    "Descripción: Utiliza un bucle for para calcular la suma de los primeros 10 números naturales (1 + 2 + 3 + ... + 10)."
   ]
  },
  {
   "cell_type": "code",
   "execution_count": 25,
   "metadata": {},
   "outputs": [
    {
     "name": "stdout",
     "output_type": "stream",
     "text": [
      "La suma de todos los elementos de range(0, 11) es 55\n"
     ]
    }
   ],
   "source": [
    "#declaramos la variable de nuestros numeros naturales con el rango de 0 a 11 (posición)\n",
    "#iniciamos suma a 0 \n",
    "#declaramos una lista vacía llamada suma \n",
    "#bucle: por cada numero de nuestro rango, lo añadiremos a la lista nueva y lo sumaremos al total que llevamos dentro de esta misma lista. \n",
    "#El total es 55 \n",
    "\n",
    "\n",
    "numeros_naturales = range(0,11)\n",
    "\n",
    "suma = 0\n",
    "\n",
    "for numeros in numeros_naturales:\n",
    "    suma += numeros \n",
    "    \n",
    "\n",
    "print(f\"La suma de todos los elementos de {numeros_naturales} es {suma}\")"
   ]
  },
  {
   "cell_type": "markdown",
   "metadata": {},
   "source": [
    "3. Calcular el producto de los elementos de una lista\n",
    "Descripción: Dada una lista de números, utiliza un bucle for para calcular el producto de todos los elementos."
   ]
  },
  {
   "cell_type": "code",
   "execution_count": 26,
   "metadata": {},
   "outputs": [
    {
     "name": "stdout",
     "output_type": "stream",
     "text": [
      "El producto de todos los elementos es 240\n"
     ]
    }
   ],
   "source": [
    "lista_elementos = [1, 2, 3, 5, 8]\n",
    "\n",
    "producto = 1\n",
    "\n",
    "for numeros in lista_elementos:\n",
    "    producto *= numeros\n",
    "\n",
    "print(f\"El producto de todos los elementos es {producto}\")"
   ]
  },
  {
   "cell_type": "markdown",
   "metadata": {},
   "source": [
    "4. Imprimir los caracteres de una cadena de texto\n",
    "Descripción: Dada una cadena de texto, utiliza un bucle for para imprimir cada carácter en una línea separada."
   ]
  },
  {
   "cell_type": "code",
   "execution_count": 30,
   "metadata": {},
   "outputs": [
    {
     "name": "stdout",
     "output_type": "stream",
     "text": [
      "hemos convertido el 'estamos pythoneando' a: \n",
      "e\n",
      "s\n",
      "t\n",
      "a\n",
      "m\n",
      "o\n",
      "s\n",
      " \n",
      "p\n",
      "y\n",
      "t\n",
      "h\n",
      "o\n",
      "n\n",
      "e\n",
      "a\n",
      "n\n",
      "d\n",
      "o\n"
     ]
    }
   ],
   "source": [
    "texto = \"estamos pythoneando\"\n",
    "\n",
    "print(f\"hemos convertido el '{texto}' a: \")\n",
    "\n",
    "for letra in texto: \n",
    "    print(letra)\n",
    " \n",
    "\n",
    "\n"
   ]
  },
  {
   "cell_type": "markdown",
   "metadata": {},
   "source": [
    "5. Imprimir los números pares del 1 al 100 utilizando un bucle for\n",
    "Descripción: Utiliza un bucle for para imprimir los números pares del 1 al 100 en orden ascendente."
   ]
  },
  {
   "cell_type": "code",
   "execution_count": 33,
   "metadata": {},
   "outputs": [
    {
     "name": "stdout",
     "output_type": "stream",
     "text": [
      "Los números pares existentes entre 1 y 100 son [2, 4, 6, 8, 10, 12, 14, 16, 18, 20, 22, 24, 26, 28, 30, 32, 34, 36, 38, 40, 42, 44, 46, 48, 50, 52, 54, 56, 58, 60, 62, 64, 66, 68, 70, 72, 74, 76, 78, 80, 82, 84, 86, 88, 90, 92, 94, 96, 98, 100]\n"
     ]
    }
   ],
   "source": [
    "#determinamos el rango en la variable numeros \n",
    "#creamos lista vacía para almacenar los númerospares \n",
    "#bucle: para cada uno de los numeros de la lista, mira si el residuo es cero. Si es así, es par, en caso contrario es impar. \n",
    "\n",
    "numeros = range(1, 101)\n",
    "\n",
    "rango = []\n",
    "\n",
    "for i in numeros: \n",
    "    if i % 2 == 0:\n",
    "        rango.append(i)\n",
    "    else:\n",
    "        continue\n",
    "\n",
    "print(f\"Los números pares existentes entre 1 y 100 son {rango}\")"
   ]
  },
  {
   "cell_type": "markdown",
   "metadata": {},
   "source": [
    "6. Imprimir los números primos del 1 al 50 utilizando un bucle for\n",
    "Descripción: Utiliza un bucle for para imprimir los números primos del 1 al 50 en orden ascendente.\n",
    "NOTA: Según la Wikipedia, un número primo es un número natural mayor que 1 que no tiene divisores positivos más que 1 y él mismo."
   ]
  },
  {
   "cell_type": "code",
   "execution_count": 11,
   "metadata": {},
   "outputs": [
    {
     "name": "stdout",
     "output_type": "stream",
     "text": [
      "2\n",
      "3\n",
      "5\n",
      "7\n",
      "11\n",
      "13\n",
      "17\n",
      "19\n",
      "23\n",
      "29\n",
      "31\n",
      "37\n",
      "41\n",
      "43\n",
      "47\n"
     ]
    }
   ],
   "source": [
    "#PENDIENTE DE TERMINAR!!!!! \n",
    "\n",
    "\n",
    "for numeros in range(2, 51): \n",
    "    if numeros > 1: \n",
    "        for valor in range(2, numeros):\n",
    "            if (numeros % valor) == 0:\n",
    "                break\n",
    "        \n",
    "        else: \n",
    "            print(numeros)\n",
    "#Iniciamos con el valor 1 y finalizamos con el 50 (es el intérvalo que queremos revisar)\n",
    "#FOR: para cada unmero dentro del rango 1-50+1: \n",
    "    #SI el numero es mayor que uno, \n",
    "    # entonces revisa si num es PRIMO o no. SI No lo es, entonces para, Si lo es, imprímelo"
   ]
  },
  {
   "cell_type": "markdown",
   "metadata": {},
   "source": [
    "7. Calcular el factorial de un número utilizando un bucle for\n",
    "Descripción: Dado un número entero positivo, calcula su factorial utilizando un bucle for."
   ]
  },
  {
   "cell_type": "code",
   "execution_count": 35,
   "metadata": {},
   "outputs": [
    {
     "name": "stdout",
     "output_type": "stream",
     "text": [
      "El factorial de 5 es 120\n"
     ]
    }
   ],
   "source": [
    "#Generamos el input para que el usuario nos diga un numero \n",
    "#bucle:\n",
    "#si el numero escogido es menor que cero, avisamos para que escriba un numero positivo \n",
    "#si el numero es entero positivo mayor que cero, entonces calculamos el factorial y lo printeamos \n",
    "\n",
    "numero_escogido = int(input(\"dime un numero\"))\n",
    "\n",
    "factorial = 1\n",
    "\n",
    "if numero_escogido < 0: \n",
    "    print(\"Escribe un numero entero positivo\")\n",
    "elif numero_escogido == 0: \n",
    "    print(\"El factorial de 0 es 1\")\n",
    "else: \n",
    "    for numero_escogido in range(1, numero_escogido +1):\n",
    "        factorial = factorial * numero_escogido\n",
    "    print(f\"El factorial de {numero_escogido} es {factorial}\")\n"
   ]
  },
  {
   "cell_type": "markdown",
   "metadata": {},
   "source": [
    "8. Juego de adivinar palabras utilizando un bucle for\n",
    "Descripción: Crea un juego en el que el jugador debe adivinar una palabra secreta. El jugador tiene un número limitado de intentos y se le proporcionan pistas después de cada intento. Utiliza un bucle for para controlar los intentos del jugador."
   ]
  },
  {
   "cell_type": "code",
   "execution_count": 10,
   "metadata": {},
   "outputs": [
    {
     "name": "stdout",
     "output_type": "stream",
     "text": [
      "Pista: La palabra comienza con 'a'.\n",
      "Pista: La palabra tiene 6 letras.\n",
      "Pista: La palabra está relacionada con el lugar donde pasamos nuestro día a día.\n",
      "Pista: La palabra tiene 'da' en la segunda y tercera posición.\n",
      "Lo siento, has agotado todos tus intentos. La palabra secreta era 'adalab'.\n"
     ]
    }
   ],
   "source": [
    "# Definir la palabra secreta\n",
    "palabra_secreta = \"adalab\"\n",
    "\n",
    "# Inicializar el número de intentos\n",
    "intentos_maximos = 5\n",
    "intentos_realizados = 0\n",
    "\n",
    "# Inicializar una bandera para controlar el juego\n",
    "adivinanza_correcta = False\n",
    "\n",
    "# Bucle while para controlar los intentos\n",
    "while intentos_realizados < intentos_maximos and not adivinanza_correcta:\n",
    "    # Pedir al jugador que adivine la palabra\n",
    "    adivinanza = input(f\"Intento {intentos_realizados + 1}: Adivina la palabra ({intentos_maximos - intentos_realizados} intentos restantes): \").lower()\n",
    "\n",
    "    # Verificar si la adivinanza es correcta\n",
    "    if adivinanza == palabra_secreta:\n",
    "        print(\"¡Felicidades! Adivinaste la palabra secreta.\")\n",
    "        adivinanza_correcta = True\n",
    "    else:\n",
    "        # Incrementar el número de intentos realizados\n",
    "        intentos_realizados += 1\n",
    "\n",
    "        # Dar pistas al jugador en función del número de intentos que lleva (límite 3)\n",
    "        if intentos_realizados < intentos_maximos:\n",
    "            if intentos_realizados == 1:\n",
    "                print(\"Pista: La palabra comienza con 'a'.\")\n",
    "            elif intentos_realizados == 2:\n",
    "                print(\"Pista: La palabra tiene 6 letras.\")\n",
    "            elif intentos_realizados == 3:\n",
    "                print(\"Pista: La palabra está relacionada con el lugar donde pasamos nuestro día a día.\")\n",
    "            else:\n",
    "                print(\"Pista: La palabra tiene 'da' en la segunda y tercera posición.\")\n",
    "        else:\n",
    "            print(\"Lo siento, has agotado todos tus intentos. La palabra secreta era 'adalab'.\")\n",
    "\n",
    "# Fin del juego\n"
   ]
  },
  {
   "cell_type": "markdown",
   "metadata": {},
   "source": [
    "EJERCICIOS LIST COMPREHENSION"
   ]
  },
  {
   "cell_type": "markdown",
   "metadata": {},
   "source": [
    "1. Generar una lista de los números pares del 1 al 20.\n",
    "Descripción: Utiliza list comprehension para generar una lista que contenga todos los números pares en el rango del 1 al 20."
   ]
  },
  {
   "cell_type": "markdown",
   "metadata": {},
   "source": [
    "2. Obtener una lista de las vocales en una cadena de texto.\n",
    "Descripción: Utiliza list comprehension para crear una lista que contenga todas las vocales presentes en una cadena de texto (sin repetición)"
   ]
  },
  {
   "cell_type": "markdown",
   "metadata": {},
   "source": [
    "3. Filtrar los números positivos de una lista y calcular su cuadrado.\n",
    "Descripción: Utiliza list comprehension para filtrar los números positivos de una lista y calcular el cuadrado de cada uno."
   ]
  },
  {
   "cell_type": "markdown",
   "metadata": {},
   "source": [
    "EJERCICIOS TRY ... EXCEPT"
   ]
  },
  {
   "cell_type": "markdown",
   "metadata": {},
   "source": [
    "1. Realizar una búsqueda en una lista y capturar una excepción en caso de valor no encontrado.\n",
    "Descripción: Solicita al usuario una lista de nombres y un nombre para buscar en la lista. Intenta encontrar el nombre en la lista y utiliza las sentencias try y except para capturar la excepción en caso de que el nombre no sea encontrado."
   ]
  }
 ],
 "metadata": {
  "kernelspec": {
   "display_name": "base",
   "language": "python",
   "name": "python3"
  },
  "language_info": {
   "codemirror_mode": {
    "name": "ipython",
    "version": 3
   },
   "file_extension": ".py",
   "mimetype": "text/x-python",
   "name": "python",
   "nbconvert_exporter": "python",
   "pygments_lexer": "ipython3",
   "version": "3.11.5"
  },
  "orig_nbformat": 4
 },
 "nbformat": 4,
 "nbformat_minor": 2
}
