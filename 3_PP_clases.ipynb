{
 "cells": [
  {
   "cell_type": "markdown",
   "metadata": {},
   "source": [
    "En este ejercicio de pair programming, vamos a crear una clase para gestionar la información de los empleados de nuestra empresa. Siguiendo las indicaciones del jefe, necesitamos organizar los datos de cada empleado de manera más estructurada.\n",
    "La clase Empleados permite gestionar información relacionada con los empleados de una empresa, con las siguientes características:\n",
    "Debes crear una clase llamada \"Empleados\" que tenga los siguientes atributos: nombre, apellidos, edad, posicion, año , vacaciones(cantidad de días de vacaciones que le quedan al empleado) y herramientas.\n",
    "El constructor __init__ debe recibir estos atributos como parámetros y asignarlos a los respectivos atributos de la clase.\n",
    "Los atributos representan la información personal y profesional de un empleado, como su nombre completo, edad, posición en la empresa, año de ingreso, días de vacaciones disponibles y una lista de herramientas que el empleado sabe utilizar.En este ejercicio de pair programming, vamos a crear una clase para gestionar la información de los empleados de nuestra empresa. Siguiendo las indicaciones del jefe, necesitamos organizar los datos de cada empleado de manera más estructurada.\n",
    "La clase Empleados permite gestionar información relacionada con los empleados de una empresa, con las siguientes características:\n",
    "Debes crear una clase llamada \"Empleados\" que tenga los siguientes atributos: nombre, apellidos, edad, posicion, año , vacaciones(cantidad de días de vacaciones que le quedan al empleado) y herramientas.\n",
    "El constructor __init__ debe recibir estos atributos como parámetros y asignarlos a los respectivos atributos de la clase.\n",
    "Los atributos representan la información personal y profesional de un empleado, como su nombre completo, edad, posición en la empresa, año de ingreso, días de vacaciones disponibles y una lista de herramientas que el empleado sabe utilizar."
   ]
  },
  {
   "cell_type": "code",
   "execution_count": 78,
   "metadata": {},
   "outputs": [],
   "source": [
    "import datetime"
   ]
  },
  {
   "cell_type": "code",
   "execution_count": 79,
   "metadata": {},
   "outputs": [],
   "source": [
    "class Empleados: \n",
    "    \n",
    "    def __init__(self, nombre, apellidos, edad, posicion, año, vacaciones, herramientas): \n",
    "        \n",
    "        self.nombre = nombre\n",
    "        self.apellidos = apellidos\n",
    "        self.edad = edad\n",
    "        self.posicion = posicion\n",
    "        self.año = año\n",
    "        self.vacaciones = vacaciones\n",
    "        self.herramientas = herramientas\n",
    "\n",
    "#METODO 1 \n",
    "    def descripcion(self): \n",
    "        \n",
    "        return f\"Empleados: {self.nombre}, {self.posicion}, {self.año}, {self.vacaciones}\"\n",
    "\n",
    "# METODO 2 \n",
    "    def cambiando_posicion(self):\n",
    "            \n",
    "        herramientas_min = []\n",
    "\n",
    "        for herramienta in self.herramientas: \n",
    "            herramientas_min.append(herramienta.lower())\n",
    "                \n",
    "        if \"python\" in herramientas_min:\n",
    "\n",
    "            return f\"eres lo más\" \n",
    "        \n",
    "        if \"excel\" in herramientas_min:\n",
    "\n",
    "            return f\"Quitate de excel y vente a python\"\n",
    "        if \"python\" not in herramientas_min:\n",
    "            return f\"actualizate un poquito \"\n",
    "\n",
    "            \n",
    "#METODO 3 \n",
    "\n",
    "    #def calcular_antiguedad(self):\n",
    "\n",
    "    \n",
    "\n",
    "    \n",
    "#METODO 4 \n",
    "\n",
    "    def solicitar_aumento_vacaciones(self, dias_solicitados): \n",
    "\n",
    "        if dias_solicitados > 0: \n",
    "            self.vacaciones += dias_solicitados\n",
    "            return f\"Aprobamos tu solicitud. Has solicitado {dias_solicitados} días y tienes {self.vacaciones} dias en total\"\n",
    "\n",
    "        else: \n",
    "            return f\"Debes solicitar a partir de 1 día o más\"\n",
    "\n",
    "\n",
    "\n",
    "\n"
   ]
  },
  {
   "cell_type": "code",
   "execution_count": 80,
   "metadata": {},
   "outputs": [
    {
     "data": {
      "text/plain": [
       "datetime.datetime(2023, 10, 18, 11, 55, 19, 390748)"
      ]
     },
     "execution_count": 80,
     "metadata": {},
     "output_type": "execute_result"
    }
   ],
   "source": [
    "datetime.datetime.now() "
   ]
  },
  {
   "cell_type": "code",
   "execution_count": null,
   "metadata": {},
   "outputs": [],
   "source": [
    "empleado1 = Empleados(\"alfredo\", \"diez\", 40, \"PM\", 2023, 4, [\"word\", \"excel\", \"ppt\"], 7)\n",
    "\n"
   ]
  },
  {
   "cell_type": "code",
   "execution_count": null,
   "metadata": {},
   "outputs": [
    {
     "data": {
      "text/plain": [
       "'Haz algo, ¿no?'"
      ]
     },
     "execution_count": 64,
     "metadata": {},
     "output_type": "execute_result"
    }
   ],
   "source": [
    "empleado1.cambiando_posicion()"
   ]
  }
 ],
 "metadata": {
  "kernelspec": {
   "display_name": "base",
   "language": "python",
   "name": "python3"
  },
  "language_info": {
   "codemirror_mode": {
    "name": "ipython",
    "version": 3
   },
   "file_extension": ".py",
   "mimetype": "text/x-python",
   "name": "python",
   "nbconvert_exporter": "python",
   "pygments_lexer": "ipython3",
   "version": "3.11.5"
  },
  "orig_nbformat": 4
 },
 "nbformat": 4,
 "nbformat_minor": 2
}
