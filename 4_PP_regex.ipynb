{
 "cells": [
  {
   "cell_type": "markdown",
   "metadata": {},
   "source": [
    "1. Validar un número de teléfono.\n",
    "\n",
    "patron tiene que ser  (XXX) XXX-XXXX."
   ]
  },
  {
   "cell_type": "code",
   "execution_count": 151,
   "metadata": {},
   "outputs": [],
   "source": [
    "import re"
   ]
  },
  {
   "cell_type": "code",
   "execution_count": 152,
   "metadata": {},
   "outputs": [
    {
     "name": "stdout",
     "output_type": "stream",
     "text": [
      "['(123) 456-7890', '(555) 238-1987']\n"
     ]
    }
   ],
   "source": [
    "telefonos = [\"(123) 456-7890\", \"178 1890-733\", \"(555) 238-1987\", \"(123) 4560-7890\", \"(ABC) 098-1111\"]\n",
    "\n",
    "patron_valido = \"\\(\\d{3}\\)\\s\\d{3}-\\d{4}\"\n",
    "#validacion = re.findall(patron_valido, telefonos)\n",
    "\n",
    "num_validos = []\n",
    "\n",
    "for numero in telefonos: \n",
    "    if re.findall(patron_valido, numero): \n",
    "      num_validos.append(numero)\n",
    "\n",
    "print(num_validos)"
   ]
  },
  {
   "cell_type": "markdown",
   "metadata": {},
   "source": [
    "2. Buscar todas las direcciones de correo electrónico en un texto."
   ]
  },
  {
   "cell_type": "code",
   "execution_count": 153,
   "metadata": {},
   "outputs": [],
   "source": [
    "texto_email = \"Mi correo es user@example.com. Contacta conmigo en john.doe@email.com\""
   ]
  },
  {
   "cell_type": "code",
   "execution_count": 150,
   "metadata": {},
   "outputs": [
    {
     "data": {
      "text/plain": [
       "['user@example.com', 'doe@email.com']"
      ]
     },
     "execution_count": 150,
     "metadata": {},
     "output_type": "execute_result"
    }
   ],
   "source": [
    "patron_valido_email= \"\\w+\\@\\w+\\.\\w+\"\n",
    "re.findall(patron_valido_email, texto_email)"
   ]
  },
  {
   "cell_type": "markdown",
   "metadata": {},
   "source": [
    "3. Validar un código postal\n",
    "Descripción: Verificar si una cadena representa un código postal válido de 5 dígitos.\n",
    "Probad para cada uno de los códigos postales que tenemos en la siguiente lista:"
   ]
  },
  {
   "cell_type": "code",
   "execution_count": 154,
   "metadata": {},
   "outputs": [
    {
     "name": "stdout",
     "output_type": "stream",
     "text": [
      "['12345', '78409', '19305']\n"
     ]
    }
   ],
   "source": [
    "\n",
    "codigos_postales = [\"12345\", \"190037\", \"78409\", \"986449\", \"19305\"]\n",
    "#la casita es para que solamente tenga en cuenta este parámetro y el dólar es para que finalice ahí donde le marco el patrón\n",
    "patron_cp = \"^\\d{5}$\"\n",
    "    \n",
    "cp_validos = []\n",
    "\n",
    "for cp in codigos_postales: \n",
    "    if re.findall(patron_cp, cp): \n",
    "      cp_validos.append(cp)\n",
    "\n",
    "print(cp_validos)\n"
   ]
  },
  {
   "cell_type": "markdown",
   "metadata": {},
   "source": [
    "4. Encontrar todas las palabras que comienzan con una vocal en un texto."
   ]
  },
  {
   "cell_type": "code",
   "execution_count": 144,
   "metadata": {},
   "outputs": [],
   "source": [
    "texto_vocales = \"El perro está ladrando. Ana tiene una manzana. La casa es grande.\""
   ]
  },
  {
   "cell_type": "code",
   "execution_count": 155,
   "metadata": {},
   "outputs": [
    {
     "data": {
      "text/plain": [
       "['E', 'e', 'A', 'u', 'e']"
      ]
     },
     "execution_count": 155,
     "metadata": {},
     "output_type": "execute_result"
    }
   ],
   "source": [
    "patron_vocales = r\"\\b[aeiouAEIOU]\"\n",
    "palabras_vocal = re.findall(patron_vocales, texto_vocales)\n",
    "palabras_vocal"
   ]
  },
  {
   "cell_type": "markdown",
   "metadata": {},
   "source": [
    "5. Extraer todos los hashtags de un texto.\n",
    "Descripción: Extraer todos los hashtags (#) presentes en una cadena de texto.\n",
    "Probad con el siguiente string:"
   ]
  },
  {
   "cell_type": "code",
   "execution_count": 156,
   "metadata": {},
   "outputs": [],
   "source": [
    "texto_deporte = \"Me encanta el #deporte. #FelizViernes a todos. Estoy en la conferencia #Tech2022.\""
   ]
  },
  {
   "cell_type": "code",
   "execution_count": 157,
   "metadata": {},
   "outputs": [
    {
     "name": "stdout",
     "output_type": "stream",
     "text": [
      "Me encanta el deporte. FelizViernes a todos. Estoy en la conferencia Tech2022.\n"
     ]
    }
   ],
   "source": [
    "patron_hashtag = \"\\#\"\n",
    "texto_limpio = re.sub(patron_hashtag, \"\", texto_deporte)\n",
    "\n",
    "print(texto_limpio)\n"
   ]
  },
  {
   "cell_type": "markdown",
   "metadata": {},
   "source": [
    "6. Buscar todos los números decimales en una cadena de texto.\n",
    "Descripción: Encontrar todos los números decimales presentes en una cadena de texto.\n",
    "Probad con el siguiente string:"
   ]
  },
  {
   "cell_type": "code",
   "execution_count": 159,
   "metadata": {},
   "outputs": [],
   "source": [
    "texto_precios = \"El precio es $19.99. La temperatura es 25.5°C. El índice de inflación es del 2.5%.\"     "
   ]
  },
  {
   "cell_type": "code",
   "execution_count": 160,
   "metadata": {},
   "outputs": [
    {
     "name": "stdout",
     "output_type": "stream",
     "text": [
      "['9.9', '5.5', '2.5']\n"
     ]
    }
   ],
   "source": [
    "patron_num_val = \"\\d\\.\\d\"\n",
    "\n",
    "listado_numerico = re.findall(patron_num_val, texto_precios)\n",
    "print(listado_numerico)"
   ]
  },
  {
   "cell_type": "markdown",
   "metadata": {},
   "source": [
    "7. Validar un nombre de usuario: \n",
    "\n",
    "Descripción: Verificar si una cadena representa un nombre de usuario válido, que contiene solo letras minúsculas, números y guiones bajos (_)."
   ]
  },
  {
   "cell_type": "code",
   "execution_count": 171,
   "metadata": {},
   "outputs": [
    {
     "ename": "TypeError",
     "evalue": "expected string or bytes-like object, got 'list'",
     "output_type": "error",
     "traceback": [
      "\u001b[0;31m---------------------------------------------------------------------------\u001b[0m",
      "\u001b[0;31mTypeError\u001b[0m                                 Traceback (most recent call last)",
      "\u001b[1;32m/Users/margaritaobrador/Adalab/Module-1/pp-module1/da-modulo1-sprint2-pairprogramming-LuciaMarga/4_PP_regex.ipynb Cell 19\u001b[0m line \u001b[0;36m7\n\u001b[1;32m      <a href='vscode-notebook-cell:/Users/margaritaobrador/Adalab/Module-1/pp-module1/da-modulo1-sprint2-pairprogramming-LuciaMarga/4_PP_regex.ipynb#X42sZmlsZQ%3D%3D?line=3'>4</a>\u001b[0m listado_final \u001b[39m=\u001b[39m []\n\u001b[1;32m      <a href='vscode-notebook-cell:/Users/margaritaobrador/Adalab/Module-1/pp-module1/da-modulo1-sprint2-pairprogramming-LuciaMarga/4_PP_regex.ipynb#X42sZmlsZQ%3D%3D?line=5'>6</a>\u001b[0m \u001b[39mfor\u001b[39;00m usuario \u001b[39min\u001b[39;00m lista_usuarios: \n\u001b[0;32m----> <a href='vscode-notebook-cell:/Users/margaritaobrador/Adalab/Module-1/pp-module1/da-modulo1-sprint2-pairprogramming-LuciaMarga/4_PP_regex.ipynb#X42sZmlsZQ%3D%3D?line=6'>7</a>\u001b[0m     \u001b[39mif\u001b[39;00m re\u001b[39m.\u001b[39mfindall(patron_usuarios, lista_usuarios): \n\u001b[1;32m      <a href='vscode-notebook-cell:/Users/margaritaobrador/Adalab/Module-1/pp-module1/da-modulo1-sprint2-pairprogramming-LuciaMarga/4_PP_regex.ipynb#X42sZmlsZQ%3D%3D?line=7'>8</a>\u001b[0m       listado_final\u001b[39m.\u001b[39mappend(usuario)\n\u001b[1;32m     <a href='vscode-notebook-cell:/Users/margaritaobrador/Adalab/Module-1/pp-module1/da-modulo1-sprint2-pairprogramming-LuciaMarga/4_PP_regex.ipynb#X42sZmlsZQ%3D%3D?line=9'>10</a>\u001b[0m \u001b[39mprint\u001b[39m(listado_final)\n",
      "File \u001b[0;32m~/anaconda3/lib/python3.11/re/__init__.py:216\u001b[0m, in \u001b[0;36mfindall\u001b[0;34m(pattern, string, flags)\u001b[0m\n\u001b[1;32m    208\u001b[0m \u001b[39mdef\u001b[39;00m \u001b[39mfindall\u001b[39m(pattern, string, flags\u001b[39m=\u001b[39m\u001b[39m0\u001b[39m):\n\u001b[1;32m    209\u001b[0m \u001b[39m    \u001b[39m\u001b[39m\"\"\"Return a list of all non-overlapping matches in the string.\u001b[39;00m\n\u001b[1;32m    210\u001b[0m \n\u001b[1;32m    211\u001b[0m \u001b[39m    If one or more capturing groups are present in the pattern, return\u001b[39;00m\n\u001b[0;32m   (...)\u001b[0m\n\u001b[1;32m    214\u001b[0m \n\u001b[1;32m    215\u001b[0m \u001b[39m    Empty matches are included in the result.\"\"\"\u001b[39;00m\n\u001b[0;32m--> 216\u001b[0m     \u001b[39mreturn\u001b[39;00m _compile(pattern, flags)\u001b[39m.\u001b[39mfindall(string)\n",
      "\u001b[0;31mTypeError\u001b[0m: expected string or bytes-like object, got 'list'"
     ]
    }
   ],
   "source": [
    "lista_usuarios = [\"juan_doe123\", \"lola_12\", \"Aurora_23\", \"12marta_lopez\"]\n",
    "\n",
    "patron_usuarios = r\"^[a-z0-9_]+$\"\n",
    "listado_final = []\n",
    "\n",
    "for usuario in lista_usuarios: \n",
    "    if re.findall(patron_usuarios, lista_usuarios): \n",
    "      listado_final.append(usuario)\n",
    "\n",
    "print(listado_final)"
   ]
  },
  {
   "cell_type": "markdown",
   "metadata": {},
   "source": [
    "8. Encontrar todas las fechas en formato \"dd/mm/aaaa\" en un texto.\n",
    "Descripción: Encontrar todas las fechas válidas en formato \"dd/mm/aaaa\" presentes en una cadena de texto.\n",
    "Probad con el siguiente string:"
   ]
  },
  {
   "cell_type": "code",
   "execution_count": 163,
   "metadata": {},
   "outputs": [],
   "source": [
    "texto_fecha = \"La fecha límite es el 31/12/2022. Hoy es 01/01/2023. Cumpleaños: 15/05/1990.\""
   ]
  },
  {
   "cell_type": "markdown",
   "metadata": {},
   "source": [
    "9. Remover caracteres especiales.\n",
    "Descripción: Dada una cadena de texto, remover cualquier carácter especial, como signos de puntuación y símbolos.\n",
    "Probad con el siguiente string:"
   ]
  },
  {
   "cell_type": "code",
   "execution_count": 164,
   "metadata": {},
   "outputs": [],
   "source": [
    "texto_remove = '¡Hola, cómo estás? ¿Todo bien?'"
   ]
  }
 ],
 "metadata": {
  "kernelspec": {
   "display_name": "base",
   "language": "python",
   "name": "python3"
  },
  "language_info": {
   "codemirror_mode": {
    "name": "ipython",
    "version": 3
   },
   "file_extension": ".py",
   "mimetype": "text/x-python",
   "name": "python",
   "nbconvert_exporter": "python",
   "pygments_lexer": "ipython3",
   "version": "3.11.5"
  },
  "orig_nbformat": 4
 },
 "nbformat": 4,
 "nbformat_minor": 2
}
