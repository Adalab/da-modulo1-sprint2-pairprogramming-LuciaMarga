{
 "cells": [
  {
   "cell_type": "markdown",
   "metadata": {},
   "source": [
    "1. Calcular el área de un círculo.\n",
    "Descripción: Crea una función llamada calcular_area_circulo que tome el radio como parámetro y devuelva el área del círculo."
   ]
  },
  {
   "cell_type": "code",
   "execution_count": 44,
   "metadata": {},
   "outputs": [
    {
     "name": "stdout",
     "output_type": "stream",
     "text": [
      "El área de un círculo de un radio de 1.0 es de 3.1416\n"
     ]
    }
   ],
   "source": [
    "#Generamos el input para preguntar al usuario\n",
    "#creamos la función en la que pasaremos el valor que hemos añadido para calcular el área. \n",
    "#printeamos resultado\n",
    "\n",
    "\n",
    "radio = float(input(\"dime el radio del círculo\"))\n",
    "\n",
    "def calcular_area_circulo(radio):\n",
    "\n",
    "    areacirculo = 3.1416 * (radio **2)\n",
    "    return(areacirculo)\n",
    "    \n",
    "calcular_area_circulo(5.6)\n",
    "\n",
    "print(f\"El área de un círculo de un radio de {radio} es de {calcular_area_circulo(radio)}\")"
   ]
  },
  {
   "cell_type": "markdown",
   "metadata": {},
   "source": [
    "2. Contar la cantidad de caracteres en una cadena.\n",
    "Descripción: Crea una función llamada contar_caracteres que tome una cadena como parámetro y devuelva la cantidad de caracteres que contiene."
   ]
  },
  {
   "cell_type": "code",
   "execution_count": 24,
   "metadata": {},
   "outputs": [
    {
     "name": "stdout",
     "output_type": "stream",
     "text": [
      "30\n",
      "El total de carácteres son 30\n"
     ]
    }
   ],
   "source": [
    "\n",
    "def contar_caracteres(cadena):\n",
    "\n",
    "    cadenasinespacios = len(cadena.replace(\" \",\"\"))\n",
    "    return(cadenasinespacios)\n",
    "\n",
    "print(contar_caracteres(\"estamos haciendo pair programming\"))\n",
    "print(\"El total de carácteres son\", (contar_caracteres(\"estamos haciendo pair programming\")))\n",
    "\n",
    "\n",
    "\n",
    "\n"
   ]
  },
  {
   "cell_type": "markdown",
   "metadata": {},
   "source": [
    "3. Determinar si una cadena es un palíndromo.\n",
    "Descripción: Crea una función llamada es_palindromo que tome una cadena como parámetro y devuelva True si es un palíndromo, o False si no lo es.\n"
   ]
  },
  {
   "cell_type": "code",
   "execution_count": 27,
   "metadata": {},
   "outputs": [
    {
     "name": "stdout",
     "output_type": "stream",
     "text": [
      "True\n"
     ]
    },
    {
     "data": {
      "text/plain": [
       "'amor'"
      ]
     },
     "execution_count": 27,
     "metadata": {},
     "output_type": "execute_result"
    }
   ],
   "source": [
    "\n",
    "def es_palindromo(palabra):\n",
    "    palabrainvertida = palabra[::-1].lower()\n",
    "\n",
    "    if palabra[::-1].lower() == palabrainvertida:\n",
    "        print(True)\n",
    "    else:\n",
    "        print(False)\n",
    "    return (palabrainvertida)\n",
    "es_palindromo(\"Roma\")\n",
    "\n",
    "\n"
   ]
  },
  {
   "cell_type": "markdown",
   "metadata": {},
   "source": [
    "4. Calcular el promedio de una lista de números.\n",
    "Descripción: Crea una función llamada calcular_promedio que tome una lista de números como parámetro y devuelva el promedio de todos sus elementos."
   ]
  },
  {
   "cell_type": "code",
   "execution_count": 29,
   "metadata": {},
   "outputs": [
    {
     "data": {
      "text/plain": [
       "6.0"
      ]
     },
     "execution_count": 29,
     "metadata": {},
     "output_type": "execute_result"
    }
   ],
   "source": [
    "def calcular_promedio(listanumeros):\n",
    "    calcularmedia = sum(listanumeros)/len(listanumeros)\n",
    "    return(calcularmedia)\n",
    "calcular_promedio([5,6,7])\n",
    "\n"
   ]
  },
  {
   "cell_type": "markdown",
   "metadata": {},
   "source": [
    "5. Calcular el interés compuesto.\n",
    "Descripción: Crea una función llamada calcular_interes_compuesto que tome el capital inicial, la tasa de interés y el número de períodos como parámetros y devuelva el beneficio final después del interés compuesto."
   ]
  },
  {
   "cell_type": "code",
   "execution_count": 46,
   "metadata": {},
   "outputs": [],
   "source": [
    "capital = 100\n",
    "tasainteres = 1\n",
    "periodos = 3 \n"
   ]
  },
  {
   "cell_type": "code",
   "execution_count": 49,
   "metadata": {},
   "outputs": [
    {
     "name": "stdout",
     "output_type": "stream",
     "text": [
      "103.03010000000002\n",
      "3.0301000000000187\n"
     ]
    }
   ],
   "source": [
    "formulacapitalsimple = capital*(1+tasainteres/100)**periodos\n",
    "print(formulacapitalsimple)\n",
    "formulacapitalcompuesto= formulacapitalsimple-capital\n",
    "print(formulacapitalcompuesto)"
   ]
  },
  {
   "cell_type": "code",
   "execution_count": 51,
   "metadata": {},
   "outputs": [
    {
     "data": {
      "text/plain": [
       "3.0301000000000187"
      ]
     },
     "execution_count": 51,
     "metadata": {},
     "output_type": "execute_result"
    }
   ],
   "source": [
    "def calcular_interes_compuesto(capital, tasainteres, periodos):\n",
    "    formulacapitalsimple = capital*(1+tasainteres/100)**periodos\n",
    "    formulacapitalcompuesto= formulacapitalsimple-capital\n",
    "    return(formulacapitalcompuesto)\n",
    "calcular_interes_compuesto(100, 1, 3)"
   ]
  },
  {
   "cell_type": "markdown",
   "metadata": {},
   "source": [
    "6. Validar si una palabra es un anagrama de otra.\n",
    "Descripción: Crea una función llamada es_anagrama que tome dos palabras como parámetros y devuelva True si una es un anagrama de la otra, o False si no lo es.\n",
    "¿Qué es un anagrama?"
   ]
  },
  {
   "cell_type": "code",
   "execution_count": 31,
   "metadata": {},
   "outputs": [
    {
     "name": "stdout",
     "output_type": "stream",
     "text": [
      "True\n"
     ]
    }
   ],
   "source": [
    "palabra=\"jamon\"\n",
    "palabraanagrama=\"monja\"\n",
    "while len(palabra) == len(palabraanagrama):\n",
    "    if sorted(palabra) == sorted(palabraanagrama):\n",
    "        print(True)\n",
    "    break\n",
    "else:\n",
    "    print(False)\n"
   ]
  },
  {
   "cell_type": "code",
   "execution_count": 13,
   "metadata": {},
   "outputs": [
    {
     "name": "stdout",
     "output_type": "stream",
     "text": [
      "False\n"
     ]
    }
   ],
   "source": [
    "def anagrama_palabra(palabra,palabraanagrama):\n",
    "    if len(palabra) == len(palabraanagrama):\n",
    "        if sorted(palabra) == sorted(palabraanagrama):\n",
    "            return True\n",
    "        else:\n",
    "            return False\n",
    "print(anagrama_palabra(\"azul\", \"zulo\"))\n"
   ]
  },
  {
   "cell_type": "markdown",
   "metadata": {},
   "source": [
    "7. Validar si una cadena de texto es un isograma.\n",
    "Descripción: Crea una función llamada es_isograma que tome una cadena de texto como parámetro y devuelva True si es un isograma. En caso contrario, devuelve False.\n",
    "¿Qué es un isograma? Una palabra que no contiene letras repetidas"
   ]
  },
  {
   "cell_type": "code",
   "execution_count": 31,
   "metadata": {},
   "outputs": [
    {
     "name": "stdout",
     "output_type": "stream",
     "text": [
      "La palabra es un isograma\n"
     ]
    },
    {
     "data": {
      "text/plain": [
       "True"
      ]
     },
     "execution_count": 31,
     "metadata": {},
     "output_type": "execute_result"
    }
   ],
   "source": [
    "def isograma_palabra(palabra1):\n",
    "    tamañopalabra=len(palabra1)\n",
    "    palabraset = len(set(palabra1))\n",
    "    palabraset\n",
    "    if tamañopalabra == palabraset:\n",
    "        print(\"La palabra es un isograma\")\n",
    "        return True\n",
    "    else:\n",
    "        print(\"La palabra NO es un isograma\")\n",
    "        return False\n",
    "isograma_palabra(\"murcielago\")\n",
    "    "
   ]
  },
  {
   "cell_type": "markdown",
   "metadata": {},
   "source": [
    "8. Concatenar múltiples cadenas de texto\n",
    "Descripción: Crea una función llamada concatenar_cadenas que tome una cantidad variable de cadenas de texto como argumentos y devuelva una única cadena que contenga la concatenación de todas las cadenas ingresadas."
   ]
  },
  {
   "cell_type": "code",
   "execution_count": 43,
   "metadata": {},
   "outputs": [
    {
     "data": {
      "text/plain": [
       "' María es una señora Mañana es miércoles'"
      ]
     },
     "execution_count": 43,
     "metadata": {},
     "output_type": "execute_result"
    }
   ],
   "source": [
    "def concatenar_cadenas(*args):\n",
    "    resultado = \"\"\n",
    "    for cadena in args:\n",
    "        resultado = resultado +(\" \")+ cadena\n",
    "    return resultado\n",
    "concatenar_cadenas(\"María es una señora\", \"Mañana es miércoles\")\n",
    "\n",
    "    "
   ]
  },
  {
   "cell_type": "markdown",
   "metadata": {},
   "source": [
    "9. Crear un diccionario con información de una persona.\n",
    "Descripción: Crea una función llamada crear_persona que tome como argumentos clave-valor los datos de una persona, como nombre, edad, ciudad, etc., y devuelva un diccionario con toda la información ingresada."
   ]
  },
  {
   "cell_type": "code",
   "execution_count": 49,
   "metadata": {},
   "outputs": [
    {
     "data": {
      "text/plain": [
       "{'nombre': 'Manolo', 'edad': 50, 'ciudad': 'Madrid'}"
      ]
     },
     "execution_count": 49,
     "metadata": {},
     "output_type": "execute_result"
    }
   ],
   "source": [
    "def añadirpersona(**kwargs):\n",
    "    personas ={}\n",
    "    for clave, valor in kwargs.items():\n",
    "         personas[clave]=valor\n",
    "    return personas\n",
    "\n",
    "\n",
    "añadirpersona(nombre=\"Manolo\", edad=50, ciudad=\"Madrid\")\n"
   ]
  },
  {
   "cell_type": "markdown",
   "metadata": {},
   "source": [
    "10. Encontrar el número que falta en una lista ordenada de números consecutivos.\n",
    "Descripción: Crea una función llamada encontrar_numero_faltante que tome una lista de números consecutivos (del 1 al N, sin repetir) con un número faltante y devuelva ese número faltante.Encontrar el número que falta en una lista ordenada de números consecutivos."
   ]
  },
  {
   "cell_type": "markdown",
   "metadata": {},
   "source": [
    "11. Encontrar el elemento duplicado en una lista de números.\n",
    "Descripción: Crea una función llamada encontrar_duplicado que tome una lista de números enteros y devuelva el elemento que está duplicado en la lista."
   ]
  },
  {
   "cell_type": "code",
   "execution_count": 32,
   "metadata": {},
   "outputs": [
    {
     "data": {
      "text/plain": [
       "5"
      ]
     },
     "execution_count": 32,
     "metadata": {},
     "output_type": "execute_result"
    }
   ],
   "source": [
    "def encontrar_duplicado(listadenumeros):\n",
    "    for numero in listadenumeros:\n",
    "        if listadenumeros.count(numero)>1:\n",
    "         listadenumeros = listadenumeros.remove(numero)\n",
    "         return numero\n",
    "encontrar_duplicado([5, 5, 8, 9])\n",
    "    "
   ]
  },
  {
   "cell_type": "markdown",
   "metadata": {},
   "source": []
  }
 ],
 "metadata": {
  "kernelspec": {
   "display_name": "base",
   "language": "python",
   "name": "python3"
  },
  "language_info": {
   "codemirror_mode": {
    "name": "ipython",
    "version": 3
   },
   "file_extension": ".py",
   "mimetype": "text/x-python",
   "name": "python",
   "nbconvert_exporter": "python",
   "pygments_lexer": "ipython3",
   "version": "3.11.5"
  }
 },
 "nbformat": 4,
 "nbformat_minor": 2
}
